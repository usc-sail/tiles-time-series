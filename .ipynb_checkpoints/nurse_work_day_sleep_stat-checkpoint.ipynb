{
 "cells": [
  {
   "cell_type": "code",
   "execution_count": 329,
   "metadata": {},
   "outputs": [],
   "source": [
    "import csv\n",
    "import os\n",
    "import pandas as pd\n",
    "import numpy as np\n",
    "import matplotlib.pyplot as plt\n",
    "import datetime\n",
    "import sys\n",
    "\n",
    "sys.path.append(os.path.join('util'))\n",
    "from load_data_basic import getParticipantIDJobShift, getParticipantID\n",
    "from load_data_basic import getParticipantStartTime, getParticipantEndTime\n",
    "\n",
    "main_data_directory = '../data/keck_wave1/2_preprocessed_data'\n",
    "individual_timeline_directory = 'output/individual_timeline'\n",
    "\n",
    "IDs = getParticipantID(main_data_directory)\n",
    "\n",
    "sleep_after_work = pd.DataFrame()\n",
    "sleep_before_work = pd.DataFrame()\n",
    "\n",
    "for user_id in IDs.index:\n",
    "    participant_id = IDs.loc[user_id].values[0]\n",
    "    participant_timeline = pd.read_csv(os.path.join(individual_timeline_directory, participant_id + '.csv'), index_col=1)\n",
    "    \n",
    "    for index, row in participant_timeline.iterrows():\n",
    "        if row['type'] == 'sleep':\n",
    "            if row['is_sleep_before_work'] == 1:\n",
    "                sleep_before_work = sleep_before_work.append(row)\n",
    "                \n",
    "            if row['is_sleep_after_work'] == 1:\n",
    "                sleep_after_work = sleep_after_work.append(row)\n",
    "\n",
    "\n"
   ]
  },
  {
   "cell_type": "markdown",
   "metadata": {},
   "source": [
    "## Plot sleep duration"
   ]
  },
  {
   "cell_type": "code",
   "execution_count": 330,
   "metadata": {},
   "outputs": [
    {
     "name": "stdout",
     "output_type": "stream",
     "text": [
      "[ 6.95        7.45833333  5.875       1.01666667  7.95        5.95\n",
      "  3.075       5.625       6.30833333  6.25        7.64166667  8.49166667\n",
      "  3.725       5.78333333  7.84166667  6.675       6.55        4.04166667\n",
      "  5.7         8.60833333  6.20833333  6.06666667  9.10833333  9.56666667\n",
      "  7.61666667  9.04166667  7.56666667  7.61666667  8.16666667  7.125\n",
      "  7.9        13.675       6.40833333  6.45833333  7.225       6.99166667\n",
      "  8.95        6.6         7.10833333 14.1         6.99166667  7.975\n",
      "  7.00833333 10.20833333  8.81666667  7.89166667  9.4         6.90833333\n",
      "  8.49166667  3.73333333  7.10833333  3.46666667  7.71666667  5.55833333\n",
      "  5.975       5.075       4.60833333  5.24166667  3.7         6.375\n",
      "  1.25        5.29166667  5.69166667  5.05        9.69166667  7.41666667\n",
      "  5.83333333  6.45       10.85833333  6.75833333  1.26666667  6.25833333\n",
      "  6.26666667  9.93333333  6.99166667  7.04166667  3.15        8.50833333\n",
      "  7.98333333  7.675       7.10833333  3.01666667  8.56666667  5.675\n",
      "  5.31666667  9.85833333  5.61666667  6.675       7.14166667 12.58333333\n",
      "  1.43333333  7.85833333  2.275       9.85833333  6.75833333  7.91666667\n",
      "  6.575       9.11666667  6.51666667  8.85        6.225       6.80833333\n",
      "  6.975       6.59361111  6.11666667  6.54166667  6.23333333  5.83333333\n",
      "  6.59166667  6.69166667  6.58333333  6.19166667  6.31666667  6.30833333\n",
      "  7.36666667  6.45        7.875       4.91666667  6.1         7.65\n",
      "  5.80833333  6.45833333  7.725       6.275       6.45        7.85833333\n",
      " 10.21666667  7.18333333  7.35        8.09166667  7.25833333  7.275\n",
      "  7.39166667 13.23333333  7.54166667  7.30833333  7.74166667  6.24166667\n",
      "  7.54166667  9.475       8.44166667  6.78333333  8.25833333  8.81666667\n",
      " 10.85       10.60833333 10.85833333  9.35833333  8.55        1.73333333\n",
      "  6.13333333  7.48333333 13.40833333  7.38333333  7.93333333  9.33333333\n",
      "  7.95        9.25        6.36666667  3.48333333  9.69166667  7.86666667\n",
      "  6.65833333  6.58333333 11.33333333  6.75833333  6.91666667  8.325\n",
      "  6.33333333  6.21666667  9.05        5.85        5.91666667  6.14166667\n",
      "  7.975       2.28333333  4.38333333  6.775       5.74166667  6.38333333\n",
      "  4.83333333  7.075       7.26666667  4.60833333  6.03333333  5.96666667\n",
      "  7.35833333  3.80833333  7.625       7.40833333  8.36666667  8.45833333\n",
      "  6.54166667  6.38333333  5.          5.925       5.45833333  8.08333333\n",
      "  4.36666667  1.43333333  4.24166667  4.24166667  5.96666667  5.55833333\n",
      "  1.58333333  7.25833333  4.25833333  5.85        7.71666667  8.075\n",
      "  1.91666667  6.975       6.1         8.875      10.55833333  6.29166667\n",
      "  6.50833333  5.64166667  7.25833333  7.08333333  8.54166667  7.45833333\n",
      "  7.76666667  6.80833333  8.39166667  9.36666667  8.19166667  7.25833333\n",
      "  9.05833333  4.10833333  6.55833333  6.03333333  3.45        9.05\n",
      "  6.68333333  6.04166667  8.35        6.51666667  6.925       4.74166667\n",
      "  4.43333333  5.54166667  2.8         5.23333333  8.81666667  6.61666667\n",
      "  5.03333333  9.325       5.34166667  4.          5.45833333  4.11666667\n",
      "  5.2         7.225       8.80833333  7.90833333  8.43333333  8.45\n",
      "  8.21666667  5.35        5.775       1.75833333  5.         13.56666667\n",
      "  5.75833333  2.10833333  6.48333333  3.625       4.18333333  4.81666667\n",
      "  1.275       7.96666667  1.69166667  7.5        10.13333333  8.74166667\n",
      "  7.325       9.30833333  6.96666667  8.49166667  7.81666667  6.78333333\n",
      "  7.25833333  8.31666667  8.45833333  7.85        6.84166667  8.28333333\n",
      "  8.925       8.11666667  6.90833333  8.30833333  8.2         8.45\n",
      "  7.75        7.85        8.13333333  8.25833333  7.84166667  8.14166667\n",
      "  6.11666667  7.45833333  7.16666667  6.59166667  6.08333333  6.30833333\n",
      "  6.13333333  6.275       7.25        8.01666667  6.775       7.11666667\n",
      "  5.45833333  7.16666667  6.73333333  1.05833333  7.19166667  8.06666667\n",
      "  4.29166667  4.025       7.61666667  8.69166667  2.225       7.225\n",
      "  7.11666667  9.10833333  1.25        7.65833333  7.51666667  1.88333333\n",
      "  6.40833333  7.03333333  8.20833333  1.325       6.63333333  5.11666667\n",
      "  5.71666667  6.175       6.28333333  5.75       11.00833333  9.8\n",
      "  7.96666667 10.31666667  8.73333333  7.66666667  8.125       6.19166667\n",
      "  8.20833333  6.625       7.5        10.925       7.91666667  5.90833333\n",
      "  6.54166667  7.575      11.425       6.16666667  6.55        7.09166667\n",
      "  6.275       6.66666667  7.55        6.05833333  6.575       7.65\n",
      "  6.78333333  6.50833333  7.48333333  8.575       7.99166667  9.48333333\n",
      "  9.53333333 10.2         7.86666667  8.45        9.49166667  8.26666667\n",
      "  8.36666667 10.65        9.38333333  7.625       6.88333333  7.05\n",
      "  5.05833333  7.34166667  1.94166667  5.15833333  6.1         6.35\n",
      "  4.975       9.05833333  5.45833333  8.14166667  6.70833333  9.53333333\n",
      "  5.68333333  8.4         5.80833333  1.78333333  6.94166667]\n"
     ]
    },
    {
     "data": {
      "image/png": "[encoded data removed]",
      "text/plain": [
       "<matplotlib.figure.Figure at 0x112b06ef0>"
      ]
     },
     "metadata": {},
     "output_type": "display_data"
    }
   ],
   "source": [
    "data = []\n",
    "\n",
    "# Day shift\n",
    "day_shift_sleep_before_work = sleep_before_work.loc[sleep_before_work['shift_type'] == 1]\n",
    "day_shift_sleep_duration_before_work = np.array(day_shift_sleep_before_work['duration_in_seconds']) / 3600\n",
    "data.append(day_shift_sleep_duration_before_work)\n",
    "\n",
    "day_shift_sleep_after_work = sleep_after_work.loc[sleep_after_work['shift_type'] == 1]\n",
    "day_shift_sleep_duration_after_work = np.array(day_shift_sleep_after_work['duration_in_seconds']) / 3600\n",
    "data.append(day_shift_sleep_duration_after_work)\n",
    "\n",
    "# Night shift\n",
    "night_shift_sleep_before_work = sleep_before_work.loc[sleep_before_work['shift_type'] == 0]\n",
    "night_shift_sleep_duration_before_work = np.array(night_shift_sleep_before_work['duration_in_seconds']) / 3600\n",
    "data.append(night_shift_sleep_duration_before_work)\n",
    "\n",
    "night_shift_sleep_after_work = sleep_after_work.loc[sleep_after_work['shift_type'] == 0]\n",
    "night_shift_sleep_duration_after_work = np.array(night_shift_sleep_after_work['duration_in_seconds']) / 3600\n",
    "data.append(night_shift_sleep_duration_after_work)\n",
    "\n",
    "# color\n",
    "color = ['r', 'g', 'b', 'y']\n",
    "\n",
    "# Title\n",
    "title = ['Day Shift time between wakeup and work', 'Day Shift time between work and sleep',\n",
    "         'Night Shift time between wakeup and work', 'Night Shift time between work and sleep']\n",
    "\n",
    "fig, axes = plt.subplots(nrows=2, ncols=2, figsize=(10, 8))\n",
    "ax0, ax1, ax2, ax3 = axes.flatten()\n",
    "\n",
    "for i in range(len(axes.flatten())):\n",
    "    axes[int(i / 2), int(i % 2)].set_xlim([0, 10])\n",
    "    axes[int(i / 2), int(i % 2)].set_ylim([0, 0.5])\n",
    "    axes[int(i / 2), int(i % 2)].set_xlabel('hour', fontsize=10)\n",
    "    \n",
    "    axes[int(i / 2), int(i % 2)].hist(list(data[i]), normed=True, bins=num_of_bins, color=color[i])\n",
    "    axes[int(i / 2), int(i % 2)].set_title(title[i])\n",
    "\n",
    "fig.tight_layout()\n",
    "plt.show()"
   ]
  },
  {
   "cell_type": "code",
   "execution_count": null,
   "metadata": {},
   "outputs": [],
   "source": []
  },
  {
   "cell_type": "code",
   "execution_count": 321,
   "metadata": {},
   "outputs": [],
   "source": [
    "\n",
    "# print(sleep_stats_array)"
   ]
  },
  {
   "cell_type": "markdown",
   "metadata": {},
   "source": [
    "## Extract day shift and night shift data"
   ]
  },
  {
   "cell_type": "code",
   "execution_count": null,
   "metadata": {},
   "outputs": [],
   "source": []
  },
  {
   "cell_type": "markdown",
   "metadata": {},
   "source": [
    "## Before and after work sleep start and end time in the day"
   ]
  },
  {
   "cell_type": "code",
   "execution_count": null,
   "metadata": {},
   "outputs": [],
   "source": []
  },
  {
   "cell_type": "markdown",
   "metadata": {},
   "source": [
    "## Before and after work sleep duration"
   ]
  },
  {
   "cell_type": "code",
   "execution_count": null,
   "metadata": {},
   "outputs": [],
   "source": []
  },
  {
   "cell_type": "code",
   "execution_count": null,
   "metadata": {
    "collapsed": true
   },
   "outputs": [],
   "source": []
  },
  {
   "cell_type": "markdown",
   "metadata": {},
   "source": [
    "## Before and after work sleep efficiency"
   ]
  },
  {
   "cell_type": "code",
   "execution_count": null,
   "metadata": {},
   "outputs": [],
   "source": []
  },
  {
   "cell_type": "markdown",
   "metadata": {},
   "source": [
    "## Before and after work sleep deep"
   ]
  },
  {
   "cell_type": "code",
   "execution_count": null,
   "metadata": {},
   "outputs": [],
   "source": []
  },
  {
   "cell_type": "markdown",
   "metadata": {},
   "source": [
    "## Before and after work sleep light"
   ]
  },
  {
   "cell_type": "code",
   "execution_count": null,
   "metadata": {},
   "outputs": [],
   "source": []
  },
  {
   "cell_type": "markdown",
   "metadata": {},
   "source": [
    "## Before and after work sleep rem"
   ]
  },
  {
   "cell_type": "code",
   "execution_count": null,
   "metadata": {},
   "outputs": [],
   "source": []
  },
  {
   "cell_type": "code",
   "execution_count": null,
   "metadata": {
    "collapsed": true
   },
   "outputs": [],
   "source": []
  }
 ],
 "metadata": {
  "kernelspec": {
   "display_name": "Python 3",
   "language": "python",
   "name": "python3"
  }
 },
 "nbformat": 4,
 "nbformat_minor": 1
}
