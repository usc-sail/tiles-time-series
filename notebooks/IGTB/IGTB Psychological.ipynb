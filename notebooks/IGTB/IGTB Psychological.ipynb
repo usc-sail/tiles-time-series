{
 "cells": [
  {
   "cell_type": "markdown",
   "metadata": {},
   "source": [
    "## Import Library"
   ]
  },
  {
   "cell_type": "code",
   "execution_count": 39,
   "metadata": {
    "collapsed": true
   },
   "outputs": [],
   "source": [
    "import os, errno\n",
    "import argparse\n",
    "import numpy as np\n",
    "import pandas as pd\n",
    "import sys\n",
    "import matplotlib.pyplot as plt\n",
    "\n",
    "from datetime import datetime, timedelta\n",
    "from scipy.stats import kurtosis\n",
    "from scipy.stats.mstats import moment\n",
    "from scipy import stats\n",
    "from scipy.stats import ttest_ind, f_oneway\n",
    "\n",
    "sys.path.append(os.path.join(os.path.curdir, '../../', 'util'))\n",
    "from load_data_basic import *\n",
    "\n",
    "# date_time format\n",
    "date_time_format = '%Y-%m-%dT%H:%M:%S.%f'\n",
    "date_only_date_time_format = '%Y-%m-%d'\n",
    "\n",
    "# sleep after work duration thereshold\n",
    "sleep_after_work_duration_threshold = 12\n",
    "sleep_after_sleep_duration_threshold = 2\n",
    "\n",
    "# data folder\n",
    "main_data_directory = '../../../data/'\n",
    "recording_timeline_directory = '../../output/recording_timeline'\n",
    "sleep_timeline_directory = '../../output/sleep_timeline'\n",
    "individual_timeline_directory = '../../output/individual_timeline'\n",
    "\n"
   ]
  },
  {
   "cell_type": "markdown",
   "metadata": {},
   "source": [
    "## Read Basic Information"
   ]
  },
  {
   "cell_type": "code",
   "execution_count": 40,
   "metadata": {
    "collapsed": true
   },
   "outputs": [],
   "source": [
    "# Read sleep data for all participant\n",
    "sleep_data = pd.read_csv(os.path.join('../../output', 'sleep_survey_full.csv'))\n",
    "\n",
    "# Read participant information\n",
    "participant_info = getParticipantInfo(main_data_directory)\n",
    "# participant_info = participant_info.set_index('MitreID')\n",
    "\n",
    "# Read MGT\n",
    "MGT = read_MGT(main_data_directory)\n",
    "\n",
    "# Read Pre-Study info\n",
    "PreStudyInfo = read_pre_study_info(main_data_directory)\n",
    "\n",
    "# Read IGTB info\n",
    "IGTB = read_IGTB(main_data_directory)\n",
    "\n",
    "# Demographic\n",
    "Demographic = read_Demographic(main_data_directory)\n",
    "\n",
    "# Day shift data\n",
    "day_data = sleep_data.loc[sleep_data['shift_type'] == 1]\n",
    "day_workday_data = day_data.loc[(day_data['is_sleep_before_work'] == 1) & (day_data['is_sleep_after_work'] == 1)]\n",
    "day_off_day_data = day_data.loc[(day_data['is_sleep_before_work'] != 1) & (day_data['is_sleep_after_work'] != 1)]\n",
    "day_transition_day_data = day_data.loc[(day_data['is_sleep_transition_before_work'] == 1) | (day_data['is_sleep_transition_after_work'] == 1)]\n",
    "\n",
    "# Night shift data\n",
    "night_data = sleep_data.loc[sleep_data['shift_type'] == 2]\n",
    "night_workday_data = night_data.loc[(night_data['is_sleep_before_work'] == 1) & (night_data['is_sleep_after_work'] == 1)]\n",
    "night_off_day_data = night_data.loc[(night_data['is_sleep_before_work'] != 1) & (night_data['is_sleep_after_work'] != 1)]\n",
    "night_transition_day_data = night_data.loc[(night_data['is_sleep_transition_before_work'] == 1) | (night_data['is_sleep_transition_after_work'] == 1)]\n",
    "\n",
    "# Data array\n",
    "data_array = [day_data, night_data, \n",
    "              day_workday_data, day_off_day_data, \n",
    "              night_workday_data, night_off_day_data]\n",
    "\n",
    "data_type = ['day-shift all', 'night-shift all',\n",
    "             'day-shift workday', 'day-shift off day', \n",
    "             'night-shift workday', 'night-shift off day']\n",
    "\n",
    "colunm_type = ['duration_in_seconds', 'SleepEfficiency',\n",
    "               'SleepMinutesStageDeep', 'SleepMinutesStageLight', 'SleepMinutesStageRem',\n",
    "               'sleep_heart_rate_mean', 'sleep_heart_rate_std',\n",
    "               'sleep_heart_rate_percentile_10', 'sleep_heart_rate_percentile_90']\n",
    "\n",
    "UserInfo = pd.merge(IGTB, PreStudyInfo, left_on='uid', right_on='uid', how='outer')\n",
    "UserInfo = pd.merge(UserInfo, participant_info, left_on='uid', right_on='MitreID', how='outer')\n",
    "UserInfo = pd.merge(UserInfo, Demographic, left_on='uid', right_on='uid', how='outer')\n",
    "UserInfo = UserInfo.set_index('uid')\n",
    "UserInfo = UserInfo.loc[UserInfo['Wave'] != 3]\n"
   ]
  },
  {
   "cell_type": "markdown",
   "metadata": {},
   "source": [
    "## Raw IGTB - PSQI and GATS"
   ]
  },
  {
   "cell_type": "code",
   "execution_count": 41,
   "metadata": {},
   "outputs": [],
   "source": [
    "raw_IGTB_col = ['ipaq1', 'ipaq2', 'ipaq3', 'ipaq4', 'ipaq5', 'ipaq6',\n",
    "                'ipaq7', 'ipaq8', 'ipaq9', 'ipaq10', 'ipaq11', 'ipaq12', \n",
    "                'ipaq13', 'ipaq14', 'ipaq15', 'ipaq16', 'ipaq17', 'ipaq18', \n",
    "                'ipaq19', 'ipaq20', 'ipaq21', 'ipaq22', 'ipaq23', 'ipaq24', \n",
    "                'ipaq25', 'ipaq26', 'ipaq27', 'ipaq_break', 'Name']\n",
    "\n",
    "IGTB_RAW = read_IGTB_Raw(main_data_directory)[raw_IGTB_col]\n",
    "IGTB_RAW = IGTB_RAW.loc[IGTB_RAW['Name'].isin(UserInfo.index.values)]\n",
    "IGTB_RAW_Score = pd.DataFrame()\n",
    "\n",
    "for user_id in UserInfo.index.values:\n",
    "    IGTB_RAW_participant = IGTB_RAW.loc[IGTB_RAW['Name'] == user_id]\n",
    "    IGTB_participant = UserInfo.loc[user_id]\n",
    "    \n",
    "    frame = pd.DataFrame(index=[user_id])\n",
    "    frame['Shift'] = 1 if IGTB_participant['Shift'] == 'Day shift' else 2\n",
    "    \n",
    "    frame['work_vigorous_activity'] = IGTB_RAW_participant['ipaq3'].values[0]\n",
    "    frame['work_moderate_activity'] = IGTB_RAW_participant['ipaq5'].values[0]\n",
    "    \n",
    "    IGTB_RAW_Score = IGTB_RAW_Score.append(frame)\n",
    "    \n",
    "# valid_sleep_stats = pd.concat([valid_sleep_stats, IGTB_RAW_Score], axis=1)\n",
    "    "
   ]
  },
  {
   "cell_type": "code",
   "execution_count": null,
   "metadata": {
    "collapsed": true
   },
   "outputs": [],
   "source": []
  },
  {
   "cell_type": "markdown",
   "metadata": {},
   "source": [
    "## IGTB (BFI, personality) - Day, Night shift"
   ]
  },
  {
   "cell_type": "code",
   "execution_count": 42,
   "metadata": {},
   "outputs": [
    {
     "name": "stdout",
     "output_type": "stream",
     "text": [
      "neu_igtb\n",
      "\n",
      "Number of valid participant: day: 110; night: 58\n",
      "\n",
      "Total: mean = 2.28, std = 0.72, range is 1.000 - 4.750\n",
      "Day shift: mean = 2.24, std = 0.71, range is 1.000 - 4.083\n",
      "Night shift: mean = 2.36, std = 0.72, range is 1.000 - 4.750 \n",
      "\n",
      "Statistics = -1.049, p = 0.296\n",
      "\n",
      "con_igtb\n",
      "\n",
      "Number of valid participant: day: 110; night: 58\n",
      "\n",
      "Total: mean = 4.13, std = 0.62, range is 2.333 - 5.000\n",
      "Day shift: mean = 4.14, std = 0.63, range is 2.333 - 5.000\n",
      "Night shift: mean = 4.11, std = 0.61, range is 2.833 - 5.000 \n",
      "\n",
      "Statistics = 0.254, p = 0.799\n",
      "\n",
      "ext_igtb\n",
      "\n",
      "Number of valid participant: day: 110; night: 58\n",
      "\n",
      "Total: mean = 3.58, std = 0.65, range is 1.833 - 5.000\n",
      "Day shift: mean = 3.62, std = 0.61, range is 1.833 - 4.750\n",
      "Night shift: mean = 3.50, std = 0.72, range is 1.833 - 5.000 \n",
      "\n",
      "Statistics = 1.086, p = 0.279\n",
      "\n",
      "agr_igtb\n",
      "\n",
      "Number of valid participant: day: 110; night: 58\n",
      "\n",
      "Total: mean = 4.15, std = 0.47, range is 2.583 - 5.000\n",
      "Day shift: mean = 4.16, std = 0.48, range is 2.583 - 5.000\n",
      "Night shift: mean = 4.15, std = 0.45, range is 3.250 - 5.000 \n",
      "\n",
      "Statistics = 0.086, p = 0.931\n",
      "\n",
      "ope_igtb\n",
      "\n",
      "Number of valid participant: day: 110; night: 58\n",
      "\n",
      "Total: mean = 3.79, std = 0.58, range is 1.917 - 4.917\n",
      "Day shift: mean = 3.76, std = 0.58, range is 1.917 - 4.917\n",
      "Night shift: mean = 3.85, std = 0.58, range is 2.250 - 4.833 \n",
      "\n",
      "Statistics = -0.889, p = 0.375\n",
      "\n"
     ]
    }
   ],
   "source": [
    "BFI_col = ['neu_igtb', 'con_igtb', 'ext_igtb', \n",
    "           'agr_igtb', 'ope_igtb']\n",
    "\n",
    "# shift_pre-study\n",
    "day_stats   = UserInfo.loc[(UserInfo['Shift'] == 'Day shift')]\n",
    "night_stats = UserInfo.loc[(UserInfo['Shift'] == 'Night shift')]\n",
    "\n",
    "data_type = ['day-shift', 'night-shift']\n",
    "\n",
    "for col in BFI_col:\n",
    "\n",
    "    print(col + '\\n')\n",
    "    print('Number of valid participant: day: %i; night: %i\\n' % (len(day_stats), len(night_stats)))\n",
    "\n",
    "    # Print\n",
    "    print('Total: mean = %.2f, std = %.2f, range is %.3f - %.3f' % (np.mean(UserInfo[col]), np.std(UserInfo[col]), np.min(UserInfo[col]), np.max(UserInfo[col])))\n",
    "    print('Day shift: mean = %.2f, std = %.2f, range is %.3f - %.3f' % (np.mean(day_stats[col]), np.std(day_stats[col]), np.min(day_stats[col]), np.max(day_stats[col])))\n",
    "    print('Night shift: mean = %.2f, std = %.2f, range is %.3f - %.3f \\n' % (np.mean(night_stats[col]), np.std(night_stats[col]), np.min(night_stats[col]), np.max(night_stats[col])))\n",
    "    \n",
    "\n",
    "    stat, p = ttest_ind(day_stats[col].dropna(), night_stats[col].dropna())\n",
    "    print('Statistics = %.3f, p = %.3f\\n' % (stat, p))\n",
    "    "
   ]
  },
  {
   "cell_type": "markdown",
   "metadata": {
    "collapsed": true
   },
   "source": [
    "## IGTB (BFI, anxiety) - Day, Night shift"
   ]
  },
  {
   "cell_type": "code",
   "execution_count": 43,
   "metadata": {},
   "outputs": [
    {
     "name": "stdout",
     "output_type": "stream",
     "text": [
      "stai_igtb\n",
      "\n",
      "Number of valid participant: day: 110; night: 58\n",
      "\n",
      "Total: mean = 34.86, std = 8.86, range is 20.000 - 71.000\n",
      "Day shift: mean = 34.23, std = 7.89, range is 20.000 - 54.000\n",
      "Night shift: mean = 36.07, std = 10.35, range is 20.000 - 71.000 \n",
      "\n",
      "Statistics = -1.279, p = 0.203\n",
      "\n",
      "pos_af_igtb\n",
      "\n",
      "Number of valid participant: day: 110; night: 58\n",
      "\n",
      "Total: mean = 36.13, std = 6.62, range is 16.000 - 50.000\n",
      "Day shift: mean = 35.83, std = 6.50, range is 16.000 - 49.000\n",
      "Night shift: mean = 36.71, std = 6.80, range is 18.000 - 50.000 \n",
      "\n",
      "Statistics = -0.816, p = 0.416\n",
      "\n",
      "neg_af_igtb\n",
      "\n",
      "Number of valid participant: day: 110; night: 58\n",
      "\n",
      "Total: mean = 16.11, std = 5.24, range is 10.000 - 38.000\n",
      "Day shift: mean = 15.25, std = 4.14, range is 10.000 - 32.000\n",
      "Night shift: mean = 17.74, std = 6.57, range is 10.000 - 38.000 \n",
      "\n",
      "Statistics = -2.982, p = 0.003\n",
      "\n",
      "shipley_abs_igtb\n",
      "\n",
      "Number of valid participant: day: 110; night: 58\n",
      "\n",
      "Total: mean = 13.35, std = 3.75, range is 2.000 - 21.000\n",
      "Day shift: mean = 13.25, std = 3.75, range is 2.000 - 20.000\n",
      "Night shift: mean = 13.53, std = 3.76, range is 3.000 - 21.000 \n",
      "\n",
      "Statistics = -0.472, p = 0.638\n",
      "\n",
      "shipley_voc_igtb\n",
      "\n",
      "Number of valid participant: day: 110; night: 58\n",
      "\n",
      "Total: mean = 29.05, std = 5.28, range is 13.000 - 40.000\n",
      "Day shift: mean = 29.05, std = 5.41, range is 13.000 - 37.000\n",
      "Night shift: mean = 29.05, std = 5.04, range is 17.000 - 40.000 \n",
      "\n",
      "Statistics = 0.003, p = 0.997\n",
      "\n"
     ]
    }
   ],
   "source": [
    "BFI_col = ['stai_igtb', 'pos_af_igtb', 'neg_af_igtb',\n",
    "           'shipley_abs_igtb', 'shipley_voc_igtb']\n",
    "\n",
    "# shift_pre-study\n",
    "day_stats   = UserInfo.loc[(UserInfo['Shift'] == 'Day shift')]\n",
    "night_stats = UserInfo.loc[(UserInfo['Shift'] == 'Night shift')]\n",
    "\n",
    "data_type = ['day-shift', 'night-shift']\n",
    "\n",
    "for col in BFI_col:\n",
    "\n",
    "    print(col + '\\n')\n",
    "    print('Number of valid participant: day: %i; night: %i\\n' % (len(day_stats), len(night_stats)))\n",
    "\n",
    "    # Print\n",
    "    print('Total: mean = %.2f, std = %.2f, range is %.3f - %.3f' % (np.mean(UserInfo[col]), np.std(UserInfo[col]), np.min(UserInfo[col]), np.max(UserInfo[col])))\n",
    "    print('Day shift: mean = %.2f, std = %.2f, range is %.3f - %.3f' % (np.mean(day_stats[col]), np.std(day_stats[col]), np.min(day_stats[col]), np.max(day_stats[col])))\n",
    "    print('Night shift: mean = %.2f, std = %.2f, range is %.3f - %.3f \\n' % (np.mean(night_stats[col]), np.std(night_stats[col]), np.min(night_stats[col]), np.max(night_stats[col])))\n",
    "    \n",
    "\n",
    "    stat, p = ttest_ind(day_stats[col].dropna(), night_stats[col].dropna())\n",
    "    print('Statistics = %.3f, p = %.3f\\n' % (stat, p))\n",
    "    "
   ]
  },
  {
   "cell_type": "markdown",
   "metadata": {},
   "source": [
    "## IGTB (Work) - Day, Night shift"
   ]
  },
  {
   "cell_type": "code",
   "execution_count": 45,
   "metadata": {},
   "outputs": [
    {
     "name": "stdout",
     "output_type": "stream",
     "text": [
      "itp_igtb\n",
      "\n",
      "Number of valid participant: day: 110; night: 58\n",
      "\n",
      "Total: mean = 4.69, std = 0.52, range is 1.000 - 5.000\n",
      "Day shift: mean = 4.66, std = 0.57, range is 1.000 - 5.000\n",
      "Night shift: mean = 4.74, std = 0.42, range is 3.333 - 5.000 \n",
      "\n",
      "Statistics = -0.911, p = 0.364\n",
      "\n",
      "irb_igtb\n",
      "\n",
      "Number of valid participant: day: 110; night: 58\n",
      "\n",
      "Total: mean = 45.03, std = 4.33, range is 31.000 - 49.000\n",
      "Day shift: mean = 44.85, std = 4.35, range is 32.000 - 49.000\n",
      "Night shift: mean = 45.38, std = 4.27, range is 31.000 - 49.000 \n",
      "\n",
      "Statistics = -0.757, p = 0.450\n",
      "\n",
      "iod_id_igtb\n",
      "\n",
      "Number of valid participant: day: 110; night: 58\n",
      "\n",
      "Total: mean = 11.05, std = 5.36, range is 7.000 - 32.000\n",
      "Day shift: mean = 11.35, std = 5.43, range is 7.000 - 32.000\n",
      "Night shift: mean = 10.50, std = 5.16, range is 7.000 - 29.000 \n",
      "\n",
      "Statistics = 0.970, p = 0.334\n",
      "\n",
      "iod_od_igtb\n",
      "\n",
      "Number of valid participant: day: 110; night: 58\n",
      "\n",
      "Total: mean = 17.15, std = 6.58, range is 12.000 - 54.000\n",
      "Day shift: mean = 17.89, std = 7.49, range is 12.000 - 54.000\n",
      "Night shift: mean = 15.76, std = 4.03, range is 12.000 - 28.000 \n",
      "\n",
      "Statistics = 2.008, p = 0.046\n",
      "\n",
      "ocb_igtb\n",
      "\n",
      "Number of valid participant: day: 110; night: 58\n",
      "\n",
      "Total: mean = 65.64, std = 12.20, range is 34.000 - 95.000\n",
      "Day shift: mean = 65.84, std = 12.61, range is 34.000 - 95.000\n",
      "Night shift: mean = 65.26, std = 11.37, range is 45.000 - 89.000 \n",
      "\n",
      "Statistics = 0.290, p = 0.772\n",
      "\n"
     ]
    }
   ],
   "source": [
    "BFI_col = ['itp_igtb', 'irb_igtb', \n",
    "           'iod_id_igtb', 'iod_od_igtb', 'ocb_igtb']\n",
    "\n",
    "# shift_pre-study\n",
    "day_stats   = UserInfo.loc[(UserInfo['Shift'] == 'Day shift')]\n",
    "night_stats = UserInfo.loc[(UserInfo['Shift'] == 'Night shift')]\n",
    "\n",
    "data_type = ['day-shift', 'night-shift']\n",
    "\n",
    "for col in BFI_col:\n",
    "\n",
    "    print(col + '\\n')\n",
    "    print('Number of valid participant: day: %i; night: %i\\n' % (len(day_stats), len(night_stats)))\n",
    "\n",
    "    # Print\n",
    "    print('Total: mean = %.2f, std = %.2f, range is %.3f - %.3f' % (np.mean(UserInfo[col]), np.std(UserInfo[col]), np.min(UserInfo[col]), np.max(UserInfo[col])))\n",
    "    print('Day shift: mean = %.2f, std = %.2f, range is %.3f - %.3f' % (np.mean(day_stats[col]), np.std(day_stats[col]), np.min(day_stats[col]), np.max(day_stats[col])))\n",
    "    print('Night shift: mean = %.2f, std = %.2f, range is %.3f - %.3f \\n' % (np.mean(night_stats[col]), np.std(night_stats[col]), np.min(night_stats[col]), np.max(night_stats[col])))\n",
    "    \n",
    "\n",
    "    stat, p = ttest_ind(day_stats[col].dropna(), night_stats[col].dropna())\n",
    "    print('Statistics = %.3f, p = %.3f\\n' % (stat, p))"
   ]
  },
  {
   "cell_type": "markdown",
   "metadata": {
    "collapsed": true
   },
   "source": [
    "## Output latex"
   ]
  },
  {
   "cell_type": "code",
   "execution_count": null,
   "metadata": {},
   "outputs": [],
   "source": [
    "anx_col = ['stai_igtb', 'pos_af_igtb', 'neg_af_igtb']\n",
    "\n",
    "latex_col = ['Anxiety', 'Affect', 'Affect']\n",
    "affect_col = ['Positive Affect', 'Negative Affect']\n",
    "\n",
    "start = '\\\\begin{tabular}{p{3cm}p{2cm}p{2cm}p{2cm}p{2cm}}' \n",
    "\n",
    "latex_output = start + '\\n\\t\\multicolumn{1}{p{3cm}}{} & '\n",
    "latex_output = latex_output + '\\n\\t\\multicolumn{1}{p{2.5cm}}{} & '\n",
    "latex_output = latex_output + '\\n\\t\\multicolumn{1}{p{2.5cm}}{} & '\n",
    "latex_output = latex_output + '\\n\\t\\multicolumn{1}{p{2.5cm}}{} & '\n",
    "latex_output = latex_output + '\\n\\t\\multicolumn{1}{p{2.5cm}}{}\\\\\\\\'\n",
    "\n",
    "# Header\n",
    "latex_output = latex_output + '\\n\\n\\t\\hline'\n",
    "latex_output = latex_output + '\\n\\t\\\\rule{0pt}{2ex}'\n",
    "latex_output = latex_output + '\\n\\t\\multirow{2}{*}{{Item}} & '\n",
    "latex_output = latex_output + '\\n\\t\\multicolumn{1}{c}{{Total (n = $%d$)}} & ' % (len(day_stats) + len(night_stats))\n",
    "latex_output = latex_output + '\\n\\t\\multicolumn{1}{c}{{Day shift (n = $%d$)}} & ' % (len(day_stats))\n",
    "latex_output = latex_output + '\\n\\t\\multicolumn{1}{c}{{Night shift (n = $%d$)}} & ' % (len(night_stats))\n",
    "latex_output = latex_output + '\\n\\t\\multicolumn{1}{c}{\\multirow{2}{*}{{\\centering P-value}}} \\\\\\\\ & '\n",
    "latex_output = latex_output + '\\n\\t\\multicolumn{1}{c}{{Mean $\\pm$ SD}} & '\n",
    "latex_output = latex_output + '\\n\\t\\multicolumn{1}{c}{{Mean $\\pm$ SD}} & '\n",
    "latex_output = latex_output + '\\n\\t\\multicolumn{1}{c}{{Mean $\\pm$ SD}} &'\n",
    "latex_output = latex_output + '\\n\\t\\\\rule{0pt}{2ex}\\\\\\\\'\n",
    "latex_output = latex_output + '\\n\\t\\hline'\n",
    "\n",
    "# Score\n",
    "for idx, col in enumerate(anx_col):\n",
    "    \n",
    "    overall    = UserInfo.dropna(subset=[col])\n",
    "    day_data   = day_stats.dropna(subset=[col])\n",
    "    night_data = night_stats.dropna(subset=[col])\n",
    "    \n",
    "    stat, p = ttest_ind(day_data[col], night_data[col])\n",
    "    \n",
    "    latex_output = latex_output + '\\n'\n",
    "    \n",
    "    if col == 'stai_igtb':\n",
    "        latex_output = latex_output + '\\n\\t\\multicolumn{1}{l}{%s} &' % (latex_col[idx])\n",
    "    elif col == 'pos_af_igtb':\n",
    "        latex_output = latex_output + '\\n\\t\\multicolumn{1}{l}{%s} &' % (latex_col[idx])\n",
    "        latex_output = latex_output + ' & & & \\\\rule{0pt}{3ex} \\\\\\\\'\n",
    "        latex_output = latex_output + '\\n\\t\\multicolumn{1}{l}{\\hspace{0.5cm}%s} &' % (affect_col[0])\n",
    "    elif col == 'neg_af_igtb':\n",
    "        latex_output = latex_output + '\\n\\t\\multicolumn{1}{l}{\\hspace{0.5cm}%s} &' % (affect_col[1])\n",
    "    \n",
    "    latex_output = latex_output + '\\n\\t\\multicolumn{1}{c}{$%.1f$ $\\pm$ $%.1f$} & ' % (np.mean(overall[col]), np.std(overall[col]))\n",
    "    latex_output = latex_output + '\\n\\t\\multicolumn{1}{c}{$%.1f$ $\\pm$ $%.1f$} & ' % (np.mean(day_data[col]), np.std(day_data[col]))\n",
    "    latex_output = latex_output + '\\n\\t\\multicolumn{1}{c}{$%.1f$ $\\pm$ $%.1f$} & ' % (np.mean(night_data[col]), np.std(night_data[col]))\n",
    "    \n",
    "    if p < 0.05:\n",
    "        latex_output = latex_output + '\\n\\t\\multicolumn{1}{c}{$\\mathbf{%.3f}$} \\\\rule{0pt}{3ex} \\\\\\\\' % (p)\n",
    "    else:\n",
    "        latex_output = latex_output + '\\n\\t\\multicolumn{1}{c}{$%.3f$} \\\\rule{0pt}{3ex} \\\\\\\\' % (p)\n",
    "    \n",
    "latex_output = latex_output + '[1mm]\\n'\n",
    "latex_output = latex_output + '\\n\\t\\hline'\n",
    "latex_output = latex_output + '\\n\\n'\n",
    "latex_output = latex_output + '\\end{tabular}'\n",
    "\n",
    "print(latex_output)\n",
    "\n",
    "\n",
    "\n"
   ]
  },
  {
   "cell_type": "code",
   "execution_count": null,
   "metadata": {
    "collapsed": true
   },
   "outputs": [],
   "source": []
  },
  {
   "cell_type": "code",
   "execution_count": null,
   "metadata": {
    "collapsed": true
   },
   "outputs": [],
   "source": []
  },
  {
   "cell_type": "code",
   "execution_count": null,
   "metadata": {
    "collapsed": true
   },
   "outputs": [],
   "source": []
  },
  {
   "cell_type": "code",
   "execution_count": null,
   "metadata": {
    "collapsed": true
   },
   "outputs": [],
   "source": []
  },
  {
   "cell_type": "code",
   "execution_count": null,
   "metadata": {
    "collapsed": true
   },
   "outputs": [],
   "source": []
  },
  {
   "cell_type": "code",
   "execution_count": null,
   "metadata": {
    "collapsed": true
   },
   "outputs": [],
   "source": []
  },
  {
   "cell_type": "code",
   "execution_count": null,
   "metadata": {
    "collapsed": true
   },
   "outputs": [],
   "source": []
  },
  {
   "cell_type": "code",
   "execution_count": null,
   "metadata": {
    "collapsed": true
   },
   "outputs": [],
   "source": []
  },
  {
   "cell_type": "code",
   "execution_count": null,
   "metadata": {
    "collapsed": true
   },
   "outputs": [],
   "source": []
  },
  {
   "cell_type": "code",
   "execution_count": null,
   "metadata": {
    "collapsed": true
   },
   "outputs": [],
   "source": []
  },
  {
   "cell_type": "code",
   "execution_count": null,
   "metadata": {
    "collapsed": true
   },
   "outputs": [],
   "source": []
  },
  {
   "cell_type": "code",
   "execution_count": null,
   "metadata": {
    "collapsed": true
   },
   "outputs": [],
   "source": []
  },
  {
   "cell_type": "code",
   "execution_count": null,
   "metadata": {
    "collapsed": true
   },
   "outputs": [],
   "source": []
  },
  {
   "cell_type": "code",
   "execution_count": null,
   "metadata": {
    "collapsed": true
   },
   "outputs": [],
   "source": []
  },
  {
   "cell_type": "code",
   "execution_count": null,
   "metadata": {
    "collapsed": true
   },
   "outputs": [],
   "source": []
  }
 ],
 "metadata": {
  "kernelspec": {
   "display_name": "Python 3",
   "language": "python",
   "name": "python3"
  },
  "language_info": {
   "codemirror_mode": {
    "name": "ipython",
    "version": 3
   },
   "file_extension": ".py",
   "mimetype": "text/x-python",
   "name": "python",
   "nbconvert_exporter": "python",
   "pygments_lexer": "ipython3",
   "version": "3.6.3"
  }
 },
 "nbformat": 4,
 "nbformat_minor": 2
}
