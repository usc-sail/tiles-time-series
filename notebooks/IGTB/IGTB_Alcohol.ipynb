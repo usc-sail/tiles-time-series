{
 "cells": [
  {
   "cell_type": "markdown",
   "metadata": {},
   "source": [
    "## Import Library"
   ]
  },
  {
   "cell_type": "code",
   "execution_count": 88,
   "metadata": {
    "collapsed": true
   },
   "outputs": [],
   "source": [
    "import os, errno\n",
    "import argparse\n",
    "import numpy as np\n",
    "import pandas as pd\n",
    "import sys\n",
    "import matplotlib.pyplot as plt\n",
    "\n",
    "from datetime import datetime, timedelta\n",
    "from scipy.stats import kurtosis\n",
    "from scipy.stats.mstats import moment\n",
    "from scipy import stats\n",
    "from scipy.stats import ttest_ind, f_oneway\n",
    "\n",
    "sys.path.append(os.path.join(os.path.curdir, '../../', 'util'))\n",
    "from load_data_basic import *\n",
    "\n",
    "# date_time format\n",
    "date_time_format = '%Y-%m-%dT%H:%M:%S.%f'\n",
    "date_only_date_time_format = '%Y-%m-%d'\n",
    "\n",
    "# sleep after work duration thereshold\n",
    "sleep_after_work_duration_threshold = 12\n",
    "sleep_after_sleep_duration_threshold = 2\n",
    "\n",
    "# data folder\n",
    "main_data_directory = '../../../data/'\n",
    "recording_timeline_directory = '../../output/recording_timeline'\n",
    "sleep_timeline_directory = '../../output/sleep_timeline'\n",
    "individual_timeline_directory = '../../output/individual_timeline'\n",
    "\n"
   ]
  },
  {
   "cell_type": "markdown",
   "metadata": {},
   "source": [
    "## Read Basic Information"
   ]
  },
  {
   "cell_type": "code",
   "execution_count": 89,
   "metadata": {
    "collapsed": true
   },
   "outputs": [],
   "source": [
    "# Read sleep data for all participant\n",
    "sleep_data = pd.read_csv(os.path.join('../../output', 'sleep_survey_full.csv'))\n",
    "\n",
    "# Read participant information\n",
    "participant_info = getParticipantInfo(main_data_directory)\n",
    "# participant_info = participant_info.set_index('MitreID')\n",
    "\n",
    "# Read MGT\n",
    "MGT = read_MGT(main_data_directory)\n",
    "\n",
    "# Read Pre-Study info\n",
    "PreStudyInfo = read_pre_study_info(main_data_directory)\n",
    "\n",
    "# Read IGTB info\n",
    "IGTB = read_IGTB(main_data_directory)\n",
    "\n",
    "# Demographic\n",
    "Demographic = read_Demographic(main_data_directory)\n",
    "\n",
    "# Day shift data\n",
    "day_data = sleep_data.loc[sleep_data['shift_type'] == 1]\n",
    "day_workday_data = day_data.loc[(day_data['is_sleep_before_work'] == 1) & (day_data['is_sleep_after_work'] == 1)]\n",
    "day_off_day_data = day_data.loc[(day_data['is_sleep_before_work'] != 1) & (day_data['is_sleep_after_work'] != 1)]\n",
    "day_transition_day_data = day_data.loc[(day_data['is_sleep_transition_before_work'] == 1) | (day_data['is_sleep_transition_after_work'] == 1)]\n",
    "\n",
    "# Night shift data\n",
    "night_data = sleep_data.loc[sleep_data['shift_type'] == 2]\n",
    "night_workday_data = night_data.loc[(night_data['is_sleep_before_work'] == 1) & (night_data['is_sleep_after_work'] == 1)]\n",
    "night_off_day_data = night_data.loc[(night_data['is_sleep_before_work'] != 1) & (night_data['is_sleep_after_work'] != 1)]\n",
    "night_transition_day_data = night_data.loc[(night_data['is_sleep_transition_before_work'] == 1) | (night_data['is_sleep_transition_after_work'] == 1)]\n",
    "\n",
    "# Data array\n",
    "data_array = [day_data, night_data, \n",
    "              day_workday_data, day_off_day_data, \n",
    "              night_workday_data, night_off_day_data]\n",
    "\n",
    "data_type = ['day-shift all', 'night-shift all',\n",
    "             'day-shift workday', 'day-shift off day', \n",
    "             'night-shift workday', 'night-shift off day']\n",
    "\n",
    "colunm_type = ['duration_in_seconds', 'SleepEfficiency',\n",
    "               'SleepMinutesStageDeep', 'SleepMinutesStageLight', 'SleepMinutesStageRem',\n",
    "               'sleep_heart_rate_mean', 'sleep_heart_rate_std',\n",
    "               'sleep_heart_rate_percentile_10', 'sleep_heart_rate_percentile_90']\n",
    "\n",
    "UserInfo = pd.merge(IGTB, PreStudyInfo, left_on='uid', right_on='uid', how='outer')\n",
    "UserInfo = pd.merge(UserInfo, participant_info, left_on='uid', right_on='MitreID', how='outer')\n",
    "UserInfo = pd.merge(UserInfo, Demographic, left_on='uid', right_on='uid', how='outer')\n",
    "UserInfo = UserInfo.set_index('uid')\n",
    "UserInfo = UserInfo.loc[UserInfo['Wave'] != 3]\n"
   ]
  },
  {
   "cell_type": "markdown",
   "metadata": {},
   "source": [
    "## Raw IGTB - Alchohol"
   ]
  },
  {
   "cell_type": "code",
   "execution_count": 90,
   "metadata": {
    "collapsed": true
   },
   "outputs": [],
   "source": [
    "raw_IGTB_col = ['psqi_inst', 'psqi1', 'psqi1ampm', 'psqi2', 'psqi3', 'psqi3ampm', 'psqi4',\n",
    "                'psqi5a', 'psqi5b', 'psqi5c', 'psqi5d', 'psqi5e', 'psqi5f', 'psqi5g', 'psqi5h',\n",
    "                'psqi5i', 'psqi5ja', 'psqi5jb', 'psqi6', 'psqi7', 'psqi8', 'psqi9', 'psqi_complete', \n",
    "                'gats1', 'gats2', 'gats3Week_1', 'gats3Week_2', 'gats3Week_3', \n",
    "                'gats3Week_4', 'gats3Week_5', 'gats3Week_6', 'gats3Week_7', \n",
    "                'audit1', 'audit2', 'audit3', 'audit4', 'audit5', \n",
    "                'audit6', 'audit7', 'audit8', 'audit9', 'audit10', 'Name']\n",
    "\n",
    "IGTB_RAW = read_IGTB_Raw(main_data_directory)[raw_IGTB_col]\n",
    "IGTB_RAW = IGTB_RAW.loc[IGTB_RAW['Name'].isin(UserInfo.index.values)]\n",
    "IGTB_RAW_Score = pd.DataFrame()\n",
    "\n",
    "for user_id in UserInfo.index.values:\n",
    "    IGTB_RAW_participant = IGTB_RAW.loc[IGTB_RAW['Name'] == user_id]\n",
    "    IGTB_participant = UserInfo.loc[user_id]\n",
    "    \n",
    "    # PSQI\n",
    "    # Contains 7 scores, the lower the score, the better the performance\n",
    "    frame = pd.DataFrame(index=[user_id])\n",
    "    frame['Shift'] = 1 if IGTB_participant['Shift'] == 'Day shift' else 2\n",
    "    \n",
    "    # AUDIT\n",
    "    frame['driking_frequency'] = IGTB_RAW_participant['audit1'].values[0]\n",
    "    frame['number_of_drink_per_day'] = IGTB_RAW_participant['audit2'].values[0]\n",
    "    frame['more_than_six_drink_frequency'] = IGTB_RAW_participant['audit3'].values[0]\n",
    "    \n",
    "    IGTB_RAW_Score = IGTB_RAW_Score.append(frame)\n"
   ]
  },
  {
   "cell_type": "markdown",
   "metadata": {},
   "source": [
    "## IGTB (Alcohol) - Day, Night shift"
   ]
  },
  {
   "cell_type": "code",
   "execution_count": 91,
   "metadata": {},
   "outputs": [
    {
     "name": "stdout",
     "output_type": "stream",
     "text": [
      "driking_frequency\n",
      "\n",
      "Number of valid participant: day: 110; night: 58\n",
      "\n",
      "Never\n",
      "\n",
      "Total: n = 33, 0.196 \n",
      "Day shift: n = 22, 0.200\n",
      "Night shift: n = 11, 0.190\n",
      "\n",
      "Monthly\n",
      "\n",
      "Total: n = 69, 0.411 \n",
      "Day shift: n = 43, 0.391\n",
      "Night shift: n = 26, 0.448\n",
      "\n",
      "2-4 times per month\n",
      "\n",
      "Total: n = 45, 0.268 \n",
      "Day shift: n = 31, 0.282\n",
      "Night shift: n = 14, 0.241\n",
      "\n",
      "2-3 times per week\n",
      "\n",
      "Total: n = 20, 0.119 \n",
      "Day shift: n = 14, 0.127\n",
      "Night shift: n = 6, 0.103\n",
      "\n",
      "4 or more times a week\n",
      "\n",
      "Total: n = 1, 0.006 \n",
      "Day shift: n = 0, 0.000\n",
      "Night shift: n = 1, 0.017\n",
      "\n",
      "Statistics = 0.169, p = 0.866\n",
      "\n",
      "number_of_drink_per_day\n",
      "\n",
      "Number of valid participant: day: 110; night: 58\n",
      "\n",
      "1-2\n",
      "\n",
      "Total: n = 117, 0.696 \n",
      "Day shift: n = 86, 0.782\n",
      "Night shift: n = 31, 0.534\n",
      "\n",
      "3-4\n",
      "\n",
      "Total: n = 25, 0.149 \n",
      "Day shift: n = 12, 0.109\n",
      "Night shift: n = 13, 0.224\n",
      "\n",
      "5-6\n",
      "\n",
      "Total: n = 10, 0.060 \n",
      "Day shift: n = 3, 0.027\n",
      "Night shift: n = 7, 0.121\n",
      "\n",
      "7-8\n",
      "\n",
      "Total: n = 1, 0.006 \n",
      "Day shift: n = 1, 0.009\n",
      "Night shift: n = 0, 0.000\n",
      "\n",
      "9-10\n",
      "\n",
      "Total: n = 1, 0.006 \n",
      "Day shift: n = 0, 0.000\n",
      "Night shift: n = 1, 0.017\n",
      "\n",
      "Statistics = -3.445, p = 0.001\n",
      "\n",
      "more_than_six_drink_frequency\n",
      "\n",
      "Number of valid participant: day: 110; night: 58\n",
      "\n",
      "Never\n",
      "\n",
      "Total: n = 115, 0.685 \n",
      "Day shift: n = 79, 0.718\n",
      "Night shift: n = 36, 0.621\n",
      "\n",
      "Less than Monthly\n",
      "\n",
      "Total: n = 42, 0.250 \n",
      "Day shift: n = 27, 0.245\n",
      "Night shift: n = 15, 0.259\n",
      "\n",
      "Monthly\n",
      "\n",
      "Total: n = 10, 0.060 \n",
      "Day shift: n = 3, 0.027\n",
      "Night shift: n = 7, 0.121\n",
      "\n",
      "Weekly\n",
      "\n",
      "Total: n = 0, 0.000 \n",
      "Day shift: n = 0, 0.000\n",
      "Night shift: n = 0, 0.000\n",
      "\n",
      "Daily\n",
      "\n",
      "Total: n = 0, 0.000 \n",
      "Day shift: n = 0, 0.000\n",
      "Night shift: n = 0, 0.000\n",
      "\n",
      "Statistics = -2.056, p = 0.041\n",
      "\n"
     ]
    }
   ],
   "source": [
    "audit_col = ['driking_frequency', 'number_of_drink_per_day', 'more_than_six_drink_frequency']\n",
    "\n",
    "driking_frequency = ['Never', 'Monthly', '2-4 times per month', '2-3 times per week', '4 or more times a week']\n",
    "number_of_drink_per_day = ['1-2', '3-4', '5-6', '7-8', '9-10']\n",
    "more_than_six_drink_frequency = ['Never', 'Less than Monthly', 'Monthly', 'Weekly', 'Daily']\n",
    "\n",
    "# shift_pre-study\n",
    "day_sleep_stats   = IGTB_RAW_Score.loc[(IGTB_RAW_Score['Shift'] == 1)].dropna(subset=['driking_frequency'])\n",
    "night_sleep_stats = IGTB_RAW_Score.loc[(IGTB_RAW_Score['Shift'] == 2)].dropna(subset=['driking_frequency'])\n",
    "data_type = ['day-shift', 'night-shift']\n",
    "\n",
    "for col in audit_col:\n",
    "\n",
    "    print(col + '\\n')\n",
    "    print('Number of valid participant: day: %i; night: %i\\n' % (len(day_sleep_stats), len(night_sleep_stats)))\n",
    "    \n",
    "    # Status\n",
    "    if col == 'driking_frequency':\n",
    "        answer_type = driking_frequency\n",
    "    elif col == 'number_of_drink_per_day':\n",
    "        answer_type = number_of_drink_per_day\n",
    "    elif col == 'more_than_six_drink_frequency':\n",
    "        answer_type = more_than_six_drink_frequency\n",
    "        \n",
    "    for i in range(1, 6, 1):\n",
    "        overall = IGTB_RAW_Score.loc[IGTB_RAW_Score[col] == i]\n",
    "        day_data = day_sleep_stats.loc[day_sleep_stats[col] == i]\n",
    "        night_data = night_sleep_stats.loc[night_sleep_stats[col] == i]\n",
    "\n",
    "        # Print\n",
    "        print(answer_type[i-1] + '\\n')\n",
    "        print('Total: n = %i, %.3f ' % (len(overall), len(overall) / (len(day_sleep_stats) + len(night_sleep_stats))))\n",
    "        print('Day shift: n = %i, %.3f' % (len(day_data), len(day_data) / len(day_sleep_stats)))\n",
    "        print('Night shift: n = %i, %.3f\\n' % (len(night_data), len(night_data) / len(night_sleep_stats)))\n",
    "\n",
    "    stat, p = ttest_ind(day_sleep_stats[col].dropna(), night_sleep_stats[col].dropna())\n",
    "    print('Statistics = %.3f, p = %.3f\\n' % (stat, p))\n",
    "    "
   ]
  },
  {
   "cell_type": "markdown",
   "metadata": {},
   "source": [
    "## Convert to Latex"
   ]
  },
  {
   "cell_type": "code",
   "execution_count": 93,
   "metadata": {},
   "outputs": [
    {
     "name": "stdout",
     "output_type": "stream",
     "text": [
      "\\begin{tabular}{p{3cm}p{2cm}p{2cm}p{2cm}p{2cm}}\n",
      "\t\\multicolumn{1}{p{3cm}}{} & \n",
      "\t\\multicolumn{1}{p{2.5cm}}{} & \n",
      "\t\\multicolumn{1}{p{2.5cm}}{} & \n",
      "\t\\multicolumn{1}{p{2.5cm}}{} & \n",
      "\t\\multicolumn{1}{p{2.5cm}}{}\\\\\n",
      "\n",
      "\t\\hline\n",
      "\t\\multicolumn{1}{c}{Items} & \n",
      "\t\\multicolumn{1}{c}{Total n (\\%)} & \n",
      "\t\\multicolumn{1}{c}{Day shift n (\\%)} & \n",
      "\t\\multicolumn{1}{c}{Night shift n (\\%)} & \n",
      "\t\\multicolumn{1}{c}{P-value} \\rule{0pt}{2ex} \\\\\n",
      "\t\\hline\n",
      "\n",
      "\t\\multicolumn{1}{l}{Alcohol drinking frequency} & & & & \n",
      "\t\\multicolumn{1}{c}{$0.866$} \\rule{0pt}{2ex} \\\\\n",
      "\t\\multicolumn{1}{l}{\\hspace{0.5cm}Never} & \n",
      "\t\\multicolumn{1}{c}{$33$ ($0.20$)} & \n",
      "\t\\multicolumn{1}{c}{$22$ ($0.20$)} & \n",
      "\t\\multicolumn{1}{c}{$11$ ($0.19$)} & \n",
      "\t\\multicolumn{1}{c}{} \\rule{0pt}{2ex} \\\\\n",
      "\t\\multicolumn{1}{l}{\\hspace{0.5cm}Monthly} & \n",
      "\t\\multicolumn{1}{c}{$69$ ($0.41$)} & \n",
      "\t\\multicolumn{1}{c}{$43$ ($0.39$)} & \n",
      "\t\\multicolumn{1}{c}{$26$ ($0.45$)} & \n",
      "\t\\multicolumn{1}{c}{} \\rule{0pt}{2ex} \\\\\n",
      "\t\\multicolumn{1}{l}{\\hspace{0.5cm}2-4 times per month} & \n",
      "\t\\multicolumn{1}{c}{$45$ ($0.27$)} & \n",
      "\t\\multicolumn{1}{c}{$31$ ($0.28$)} & \n",
      "\t\\multicolumn{1}{c}{$14$ ($0.24$)} & \n",
      "\t\\multicolumn{1}{c}{} \\rule{0pt}{2ex} \\\\\n",
      "\t\\multicolumn{1}{l}{\\hspace{0.5cm}2-3 times per week} & \n",
      "\t\\multicolumn{1}{c}{$20$ ($0.12$)} & \n",
      "\t\\multicolumn{1}{c}{$14$ ($0.13$)} & \n",
      "\t\\multicolumn{1}{c}{$6$ ($0.10$)} & \n",
      "\t\\multicolumn{1}{c}{} \\rule{0pt}{2ex} \\\\\n",
      "\t\\multicolumn{1}{l}{\\hspace{0.5cm}4 or more times a week} & \n",
      "\t\\multicolumn{1}{c}{$1$ ($0.01$)} & \n",
      "\t\\multicolumn{1}{c}{$0$ ($0.00$)} & \n",
      "\t\\multicolumn{1}{c}{$1$ ($0.02$)} & \n",
      "\t\\multicolumn{1}{c}{} \\rule{0pt}{2ex} \\\\\n",
      "\n",
      "\t\\multicolumn{1}{l}{Number of alcohol drinks per time} & & & & \n",
      "\t\\multicolumn{1}{c}{$\\mathbf{0.001}$} \\rule{0pt}{2ex} \\\\\n",
      "\t\\multicolumn{1}{l}{\\hspace{0.5cm}1-2} & \n",
      "\t\\multicolumn{1}{c}{$117$ ($0.70$)} & \n",
      "\t\\multicolumn{1}{c}{$86$ ($0.78$)} & \n",
      "\t\\multicolumn{1}{c}{$31$ ($0.53$)} & \n",
      "\t\\multicolumn{1}{c}{} \\rule{0pt}{2ex} \\\\\n",
      "\t\\multicolumn{1}{l}{\\hspace{0.5cm}3-4} & \n",
      "\t\\multicolumn{1}{c}{$25$ ($0.15$)} & \n",
      "\t\\multicolumn{1}{c}{$12$ ($0.11$)} & \n",
      "\t\\multicolumn{1}{c}{$13$ ($0.22$)} & \n",
      "\t\\multicolumn{1}{c}{} \\rule{0pt}{2ex} \\\\\n",
      "\t\\multicolumn{1}{l}{\\hspace{0.5cm}5-6} & \n",
      "\t\\multicolumn{1}{c}{$10$ ($0.06$)} & \n",
      "\t\\multicolumn{1}{c}{$3$ ($0.03$)} & \n",
      "\t\\multicolumn{1}{c}{$7$ ($0.12$)} & \n",
      "\t\\multicolumn{1}{c}{} \\rule{0pt}{2ex} \\\\\n",
      "\t\\multicolumn{1}{l}{\\hspace{0.5cm}7-8} & \n",
      "\t\\multicolumn{1}{c}{$1$ ($0.01$)} & \n",
      "\t\\multicolumn{1}{c}{$1$ ($0.01$)} & \n",
      "\t\\multicolumn{1}{c}{$0$ ($0.00$)} & \n",
      "\t\\multicolumn{1}{c}{} \\rule{0pt}{2ex} \\\\\n",
      "\t\\multicolumn{1}{l}{\\hspace{0.5cm}9-10} & \n",
      "\t\\multicolumn{1}{c}{$1$ ($0.01$)} & \n",
      "\t\\multicolumn{1}{c}{$0$ ($0.00$)} & \n",
      "\t\\multicolumn{1}{c}{$1$ ($0.02$)} & \n",
      "\t\\multicolumn{1}{c}{} \\rule{0pt}{2ex} \\\\\n",
      "\n",
      "\t\\hline\n",
      "\n",
      "\\end{tabular}\n"
     ]
    }
   ],
   "source": [
    "audit_col = ['driking_frequency', 'number_of_drink_per_day']\n",
    "latex_col = ['Alcohol drinking frequency', 'Number of alcohol drinks per time']\n",
    "\n",
    "driking_frequency = ['Never', 'Monthly', '2-4 times per month', '2-3 times per week', '4 or more times a week']\n",
    "number_of_drink_per_day = ['1-2', '3-4', '5-6', '7-8', '9-10']\n",
    "more_than_six_drink_frequency = ['Never', 'Less than Monthly', 'Monthly', 'Weekly', 'Daily']\n",
    "\n",
    "\n",
    "start = '\\\\begin{tabular}{p{3cm}p{2cm}p{2cm}p{2cm}p{2cm}}' \n",
    "\n",
    "latex_output = start + '\\n\\t\\multicolumn{1}{p{3cm}}{} & '\n",
    "latex_output = latex_output + '\\n\\t\\multicolumn{1}{p{2.5cm}}{} & '\n",
    "latex_output = latex_output + '\\n\\t\\multicolumn{1}{p{2.5cm}}{} & '\n",
    "latex_output = latex_output + '\\n\\t\\multicolumn{1}{p{2.5cm}}{} & '\n",
    "latex_output = latex_output + '\\n\\t\\multicolumn{1}{p{2.5cm}}{}\\\\\\\\'\n",
    "\n",
    "# Header\n",
    "latex_output = latex_output + '\\n\\n\\t\\hline'\n",
    "latex_output = latex_output + '\\n\\t\\multicolumn{1}{c}{Items} & '\n",
    "latex_output = latex_output + '\\n\\t\\multicolumn{1}{c}{Total n (\\%)} & '\n",
    "latex_output = latex_output + '\\n\\t\\multicolumn{1}{c}{Day shift n (\\%)} & '\n",
    "latex_output = latex_output + '\\n\\t\\multicolumn{1}{c}{Night shift n (\\%)} & '\n",
    "latex_output = latex_output + '\\n\\t\\multicolumn{1}{c}{P-value} \\\\rule{0pt}{2ex} \\\\\\\\'\n",
    "\n",
    "latex_output = latex_output + '\\n\\t\\hline'\n",
    "\n",
    "# Score\n",
    "for idx, col in enumerate(audit_col):\n",
    "    \n",
    "    stat, p = ttest_ind(day_sleep_stats[col].dropna(), night_sleep_stats[col].dropna())\n",
    "    \n",
    "    latex_output = latex_output + '\\n'\n",
    "    \n",
    "    if col is 'driking_frequency':\n",
    "        latex_option = driking_frequency\n",
    "    elif col is 'number_of_drink_per_day':\n",
    "        latex_option = number_of_drink_per_day\n",
    "    elif col is 'more_than_six_drink_frequency':\n",
    "        latex_option = more_than_six_drink_frequency\n",
    "        \n",
    "    latex_output = latex_output + '\\n\\t\\multicolumn{1}{l}{%s} & & & & ' % (latex_col[idx])\n",
    "    \n",
    "    if p > 0.05:\n",
    "        latex_output = latex_output + '\\n\\t\\multicolumn{1}{c}{$%.3f$} \\\\rule{0pt}{2ex} \\\\\\\\' % (p)\n",
    "    else:\n",
    "        latex_output = latex_output + '\\n\\t\\multicolumn{1}{c}{$\\mathbf{%.3f}$} \\\\rule{0pt}{2ex} \\\\\\\\' % (p)\n",
    "    \n",
    "    for option_idx, option in enumerate(latex_option):\n",
    "        overall = IGTB_RAW_Score.loc[IGTB_RAW_Score[col] == (option_idx + 1)]\n",
    "        day_data = day_sleep_stats.loc[day_sleep_stats[col] == (option_idx + 1)]\n",
    "        night_data = night_sleep_stats.loc[night_sleep_stats[col] == (option_idx + 1)]\n",
    "        \n",
    "        latex_output = latex_output + '\\n\\t\\multicolumn{1}{l}{\\hspace{0.5cm}%s} & '  % (option)\n",
    "        latex_output = latex_output + '\\n\\t\\multicolumn{1}{c}{$%d$ ($%.2f$)} & ' % (len(overall), len(overall) / len(IGTB_RAW_Score))\n",
    "        latex_output = latex_output + '\\n\\t\\multicolumn{1}{c}{$%d$ ($%.2f$)} & ' % (len(day_data), len(day_data) / len(day_sleep_stats))\n",
    "        latex_output = latex_output + '\\n\\t\\multicolumn{1}{c}{$%d$ ($%.2f$)} & ' % (len(night_data), len(night_data) / len(night_sleep_stats))\n",
    "        latex_output = latex_output + '\\n\\t\\multicolumn{1}{c}{} \\\\rule{0pt}{2ex} \\\\\\\\'\n",
    "\n",
    "latex_output = latex_output + '\\n'\n",
    "latex_output = latex_output + '\\n\\t\\hline'\n",
    "latex_output = latex_output + '\\n\\n'\n",
    "latex_output = latex_output + '\\end{tabular}'\n",
    "\n",
    "print(latex_output)\n",
    "\n"
   ]
  },
  {
   "cell_type": "code",
   "execution_count": null,
   "metadata": {
    "collapsed": true
   },
   "outputs": [],
   "source": []
  },
  {
   "cell_type": "code",
   "execution_count": null,
   "metadata": {
    "collapsed": true
   },
   "outputs": [],
   "source": []
  },
  {
   "cell_type": "code",
   "execution_count": null,
   "metadata": {
    "collapsed": true
   },
   "outputs": [],
   "source": []
  },
  {
   "cell_type": "code",
   "execution_count": null,
   "metadata": {
    "collapsed": true
   },
   "outputs": [],
   "source": []
  },
  {
   "cell_type": "code",
   "execution_count": null,
   "metadata": {
    "collapsed": true
   },
   "outputs": [],
   "source": []
  },
  {
   "cell_type": "code",
   "execution_count": null,
   "metadata": {
    "collapsed": true
   },
   "outputs": [],
   "source": []
  },
  {
   "cell_type": "code",
   "execution_count": null,
   "metadata": {
    "collapsed": true
   },
   "outputs": [],
   "source": []
  },
  {
   "cell_type": "code",
   "execution_count": null,
   "metadata": {
    "collapsed": true
   },
   "outputs": [],
   "source": []
  },
  {
   "cell_type": "code",
   "execution_count": null,
   "metadata": {
    "collapsed": true
   },
   "outputs": [],
   "source": []
  },
  {
   "cell_type": "code",
   "execution_count": null,
   "metadata": {
    "collapsed": true
   },
   "outputs": [],
   "source": []
  },
  {
   "cell_type": "code",
   "execution_count": null,
   "metadata": {
    "collapsed": true
   },
   "outputs": [],
   "source": []
  },
  {
   "cell_type": "code",
   "execution_count": null,
   "metadata": {
    "collapsed": true
   },
   "outputs": [],
   "source": []
  },
  {
   "cell_type": "code",
   "execution_count": null,
   "metadata": {
    "collapsed": true
   },
   "outputs": [],
   "source": []
  },
  {
   "cell_type": "code",
   "execution_count": null,
   "metadata": {
    "collapsed": true
   },
   "outputs": [],
   "source": []
  },
  {
   "cell_type": "code",
   "execution_count": null,
   "metadata": {
    "collapsed": true
   },
   "outputs": [],
   "source": []
  },
  {
   "cell_type": "code",
   "execution_count": null,
   "metadata": {
    "collapsed": true
   },
   "outputs": [],
   "source": []
  }
 ],
 "metadata": {
  "kernelspec": {
   "display_name": "Python 3",
   "language": "python",
   "name": "python3"
  },
  "language_info": {
   "codemirror_mode": {
    "name": "ipython",
    "version": 3
   },
   "file_extension": ".py",
   "mimetype": "text/x-python",
   "name": "python",
   "nbconvert_exporter": "python",
   "pygments_lexer": "ipython3",
   "version": "3.6.3"
  }
 },
 "nbformat": 4,
 "nbformat_minor": 2
}
