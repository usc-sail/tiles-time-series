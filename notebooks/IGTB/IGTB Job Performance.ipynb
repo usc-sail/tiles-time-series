{
 "cells": [
  {
   "cell_type": "markdown",
   "metadata": {},
   "source": [
    "## Import Library"
   ]
  },
  {
   "cell_type": "code",
   "execution_count": 1,
   "metadata": {
    "collapsed": true
   },
   "outputs": [],
   "source": [
    "import os, errno\n",
    "import argparse\n",
    "import numpy as np\n",
    "import pandas as pd\n",
    "import sys\n",
    "import matplotlib.pyplot as plt\n",
    "\n",
    "from datetime import datetime, timedelta\n",
    "from scipy.stats import kurtosis\n",
    "from scipy.stats.mstats import moment\n",
    "from scipy import stats\n",
    "from scipy.stats import ttest_ind, f_oneway\n",
    "\n",
    "from util.load_data_basic import *\n",
    "\n",
    "# date_time format\n",
    "date_time_format = '%Y-%m-%dT%H:%M:%S.%f'\n",
    "date_only_date_time_format = '%Y-%m-%d'\n",
    "\n",
    "# sleep after work duration thereshold\n",
    "sleep_after_work_duration_threshold = 12\n",
    "sleep_after_sleep_duration_threshold = 2\n",
    "\n",
    "# data folder\n",
    "main_data_directory = '../data/keck_wave1/2_preprocessed_data'\n",
    "recording_timeline_directory = '../output/recording_timeline'\n",
    "sleep_timeline_directory = '../output/sleep_timeline'\n",
    "individual_timeline_directory = 'output/individual_timeline'\n"
   ]
  },
  {
   "cell_type": "markdown",
   "metadata": {},
   "source": [
    "## Read Basic Information"
   ]
  },
  {
   "cell_type": "code",
   "execution_count": 2,
   "metadata": {
    "collapsed": true
   },
   "outputs": [],
   "source": [
    "# Read sleep data for all participant\n",
    "sleep_data = pd.read_csv(os.path.join('output', 'sleep_survey_full.csv'))\n",
    "\n",
    "# Read ID\n",
    "IDs = getParticipantID(main_data_directory, index=False)\n",
    "\n",
    "# Read MGT\n",
    "MGT = read_MGT(main_data_directory)\n",
    "\n",
    "# Read Pre-Study info\n",
    "PreStudyInfo = read_pre_study_info(main_data_directory)\n",
    "\n",
    "# Read IGTB info\n",
    "IGTB = read_IGTB(main_data_directory)\n",
    "\n",
    "# Demographic\n",
    "Demographic = read_Demographic(main_data_directory)\n",
    "\n",
    "# Day shift data\n",
    "day_data = sleep_data.loc[sleep_data['shift_type'] == 1]\n",
    "day_workday_data = day_data.loc[(day_data['is_sleep_before_work'] == 1) & (day_data['is_sleep_after_work'] == 1)]\n",
    "day_off_day_data = day_data.loc[(day_data['is_sleep_before_work'] != 1) & (day_data['is_sleep_after_work'] != 1)]\n",
    "day_transition_day_data = day_data.loc[(day_data['is_sleep_transition_before_work'] == 1) | (day_data['is_sleep_transition_after_work'] == 1)]\n",
    "\n",
    "# Night shift data\n",
    "night_data = sleep_data.loc[sleep_data['shift_type'] == 2]\n",
    "night_workday_data = night_data.loc[(night_data['is_sleep_before_work'] == 1) & (night_data['is_sleep_after_work'] == 1)]\n",
    "night_off_day_data = night_data.loc[(night_data['is_sleep_before_work'] != 1) & (night_data['is_sleep_after_work'] != 1)]\n",
    "night_transition_day_data = night_data.loc[(night_data['is_sleep_transition_before_work'] == 1) | (night_data['is_sleep_transition_after_work'] == 1)]\n",
    "\n",
    "# Data array\n",
    "data_array = [day_data, night_data, \n",
    "              day_workday_data, day_off_day_data, \n",
    "              night_workday_data, night_off_day_data]\n",
    "\n",
    "data_type = ['day-shift all', 'night-shift all',\n",
    "             'day-shift workday', 'day-shift off day', \n",
    "             'night-shift workday', 'night-shift off day']\n",
    "\n",
    "colunm_type = ['duration_in_seconds', 'SleepEfficiency',\n",
    "               'SleepMinutesStageDeep', 'SleepMinutesStageLight', 'SleepMinutesStageRem',\n",
    "               'sleep_heart_rate_mean', 'sleep_heart_rate_std',\n",
    "               'sleep_heart_rate_percentile_10', 'sleep_heart_rate_percentile_90']\n",
    "\n",
    "UserInfo = pd.merge(IGTB, PreStudyInfo, left_on='uid', right_on='uid', how='outer')\n",
    "UserInfo = pd.merge(UserInfo, IDs, left_on='uid', right_on='uid', how='outer')\n",
    "UserInfo = pd.merge(UserInfo, Demographic, left_on='uid', right_on='uid', how='outer')\n",
    "UserInfo = UserInfo.set_index('uid')\n"
   ]
  },
  {
   "cell_type": "markdown",
   "metadata": {},
   "source": [
    "## Get participant with valid sleep data"
   ]
  },
  {
   "cell_type": "code",
   "execution_count": 3,
   "metadata": {
    "collapsed": true
   },
   "outputs": [],
   "source": [
    "valid_sleep_stats = pd.DataFrame()\n",
    "frame_col = ['number_of_sleep', 'number_of_long_sleep', 'number_of_short_sleep', \n",
    "             'sleep_rate', 'short_sleep_rate', 'long_sleep_rate']\n",
    "\n",
    "select_column = ['participant_id', 'shift_pre-study', \n",
    "                 'life_satisfaction_pre-study', 'wellbeing_pre-study',\n",
    "                 'social_functioning_pre-study', 'pain_pre-study', 'general_health_pre-study',\n",
    "                 'neu_igtb', 'con_igtb', 'ext_igtb', 'agr_igtb', 'ope_igtb']\n",
    "\n",
    "for participant_id in UserInfo['participant_id']:\n",
    "    \n",
    "    user_id = UserInfo.loc[UserInfo['participant_id'] == participant_id].index.values[0]\n",
    "    participant_MGT = MGT.loc[MGT['uid'] == user_id]\n",
    "    \n",
    "    if len(participant_MGT) > 1:\n",
    "        start_date = np.datetime64(participant_MGT.index.values[0], 'D')\n",
    "        end_date = np.datetime64(participant_MGT.index.values[-1], 'D')\n",
    "        days_of_survey = (end_date - start_date) / np.timedelta64(1, 'D') + 1\n",
    "        \n",
    "        \n",
    "        participant_sleep_data = sleep_data.loc[sleep_data['participant_id'] == participant_id]\n",
    "        participant_sleep_data = participant_sleep_data.set_index('start_recording_time')\n",
    "        \n",
    "        start_date = np.datetime64(start_date).astype(datetime).strftime(date_time_format)\n",
    "        end_date = np.datetime64(end_date).astype(datetime).strftime(date_time_format)\n",
    "        \n",
    "        participant_sleep_data = participant_sleep_data[start_date:end_date]\n",
    "        \n",
    "    \n",
    "    if len(participant_sleep_data) > 20:\n",
    "        frame = pd.DataFrame(columns=frame_col, index=[user_id])\n",
    "        frame['number_of_sleep'] = len(participant_sleep_data)\n",
    "        frame['number_of_short_sleep'] = len(participant_sleep_data.loc[participant_sleep_data['duration_in_seconds'] <= 3600 * 4])\n",
    "        frame['number_of_long_sleep'] = len(participant_sleep_data.loc[participant_sleep_data['duration_in_seconds'] > 3600 * 4])\n",
    "        frame['sleep_rate'] = len(participant_sleep_data) / days_of_survey\n",
    "        frame['short_sleep_rate'] = len(participant_sleep_data.loc[participant_sleep_data['duration_in_seconds'] <= 3600 * 4]) / days_of_survey\n",
    "        frame['long_sleep_rate'] = len(participant_sleep_data.loc[participant_sleep_data['duration_in_seconds'] > 3600 * 4]) / days_of_survey\n",
    "        \n",
    "        valid_sleep_stats = valid_sleep_stats.append(frame)\n",
    "        \n",
    "# sleep rate and IGTB\n",
    "temp = UserInfo.loc[:,:].copy()\n",
    "valid_sleep_stats = pd.concat([valid_sleep_stats, temp], axis=1)\n",
    "valid_sleep_stats = valid_sleep_stats.dropna(subset=['number_of_sleep'])"
   ]
  },
  {
   "cell_type": "markdown",
   "metadata": {},
   "source": [
    "## Raw IGTB - PSQI and GATS"
   ]
  },
  {
   "cell_type": "code",
   "execution_count": 4,
   "metadata": {
    "collapsed": true
   },
   "outputs": [],
   "source": [
    "raw_IGTB_col = ['ipaq1', 'ipaq2', 'ipaq3', 'ipaq4', 'ipaq5', 'ipaq6',\n",
    "                'ipaq7', 'ipaq8', 'ipaq9', 'ipaq10', 'ipaq11', 'ipaq12', \n",
    "                'ipaq13', 'ipaq14', 'ipaq15', 'ipaq16', 'ipaq17', 'ipaq18', \n",
    "                'ipaq19', 'ipaq20', 'ipaq21', 'ipaq22', 'ipaq23', 'ipaq24', \n",
    "                'ipaq25', 'ipaq26', 'ipaq27', 'ipaq_break', 'Name']\n",
    "\n",
    "IGTB_RAW = read_IGTB_Raw(main_data_directory)[raw_IGTB_col]\n",
    "\n",
    "IGTB_RAW_Score = pd.DataFrame()\n",
    "\n",
    "for user_id in valid_sleep_stats.index.values:\n",
    "    IGTB_RAW_participant = IGTB_RAW.loc[IGTB_RAW['Name'] == user_id]\n",
    "    \n",
    "    frame = pd.DataFrame(index=[user_id])\n",
    "    \n",
    "    frame['work_vigorous_activity'] = IGTB_RAW_participant['ipaq3'].values[0]\n",
    "    frame['work_moderate_activity'] = IGTB_RAW_participant['ipaq5'].values[0]\n",
    "    \n",
    "    IGTB_RAW_Score = IGTB_RAW_Score.append(frame)\n",
    "    \n",
    "valid_sleep_stats = pd.concat([valid_sleep_stats, IGTB_RAW_Score], axis=1)\n",
    "    "
   ]
  },
  {
   "cell_type": "code",
   "execution_count": null,
   "metadata": {
    "collapsed": true
   },
   "outputs": [],
   "source": []
  },
  {
   "cell_type": "markdown",
   "metadata": {},
   "source": [
    "## IGTB (Job performance) - Day, Night shift"
   ]
  },
  {
   "cell_type": "code",
   "execution_count": 6,
   "metadata": {},
   "outputs": [
    {
     "name": "stdout",
     "output_type": "stream",
     "text": [
      "itp_igtb\n",
      "\n",
      "Number of valid participant: day: 93; night: 58\n",
      "\n",
      "Total: mean = 4.71, std = 0.49, range is 2.000 - 5.000\n",
      "Day shift: mean = 4.66, std = 0.54, range is 2.000 - 5.000\n",
      "Night shift: mean = 4.80, std = 0.39, range is 3.333 - 5.000 \n",
      "\n",
      "Statistics = -1.664, p = 0.098\n",
      "\n",
      "irb_igtb\n",
      "\n",
      "Number of valid participant: day: 93; night: 58\n",
      "\n",
      "Total: mean = 45.09, std = 4.35, range is 26.000 - 49.000\n",
      "Day shift: mean = 44.88, std = 4.44, range is 26.000 - 49.000\n",
      "Night shift: mean = 45.36, std = 4.20, range is 31.000 - 49.000 \n",
      "\n",
      "Statistics = -0.656, p = 0.513\n",
      "\n",
      "iod_id_igtb\n",
      "\n",
      "Number of valid participant: day: 93; night: 58\n",
      "\n",
      "Total: mean = 11.22, std = 5.24, range is 7.000 - 32.000\n",
      "Day shift: mean = 11.47, std = 5.09, range is 7.000 - 32.000\n",
      "Night shift: mean = 10.86, std = 5.47, range is 7.000 - 30.000 \n",
      "\n",
      "Statistics = 0.693, p = 0.490\n",
      "\n",
      "iod_od_igtb\n",
      "\n",
      "Number of valid participant: day: 93; night: 58\n",
      "\n",
      "Total: mean = 16.99, std = 6.01, range is 12.000 - 42.000\n",
      "Day shift: mean = 17.87, std = 6.57, range is 12.000 - 42.000\n",
      "Night shift: mean = 15.60, std = 4.73, range is 12.000 - 36.000 \n",
      "\n",
      "Statistics = 2.271, p = 0.025\n",
      "\n",
      "ocb_igtb\n",
      "\n",
      "Number of valid participant: day: 93; night: 58\n",
      "\n",
      "Total: mean = 65.38, std = 11.57, range is 39.000 - 95.000\n",
      "Day shift: mean = 65.44, std = 11.59, range is 39.000 - 95.000\n",
      "Night shift: mean = 65.31, std = 11.65, range is 48.000 - 91.000 \n",
      "\n",
      "Statistics = 0.067, p = 0.947\n",
      "\n"
     ]
    }
   ],
   "source": [
    "BFI_col = ['itp_igtb', 'irb_igtb', \n",
    "           'iod_id_igtb', 'iod_od_igtb', 'ocb_igtb']\n",
    "\n",
    "# shift_pre-study\n",
    "day_sleep_stats = valid_sleep_stats.loc[(valid_sleep_stats['shift_pre-study'] == 1) | (valid_sleep_stats['shift'] == 1) & (valid_sleep_stats['shift_pre-study'] != 2)]\n",
    "night_sleep_stats = valid_sleep_stats.loc[((valid_sleep_stats['shift_pre-study'] == 2) | (valid_sleep_stats['shift'] == 2)) & (valid_sleep_stats['shift_pre-study'] != 1)]\n",
    "data_type = ['day-shift', 'night-shift']\n",
    "\n",
    "for col in BFI_col:\n",
    "\n",
    "    print(col + '\\n')\n",
    "    print('Number of valid participant: day: %i; night: %i\\n' % (len(day_sleep_stats), len(night_sleep_stats)))\n",
    "\n",
    "    # Print\n",
    "    print('Total: mean = %.2f, std = %.2f, range is %.3f - %.3f' % (np.mean(valid_sleep_stats[col]), np.std(valid_sleep_stats[col]), np.min(valid_sleep_stats[col]), np.max(valid_sleep_stats[col])))\n",
    "    print('Day shift: mean = %.2f, std = %.2f, range is %.3f - %.3f' % (np.mean(day_sleep_stats[col]), np.std(day_sleep_stats[col]), np.min(day_sleep_stats[col]), np.max(day_sleep_stats[col])))\n",
    "    print('Night shift: mean = %.2f, std = %.2f, range is %.3f - %.3f \\n' % (np.mean(night_sleep_stats[col]), np.std(night_sleep_stats[col]), np.min(night_sleep_stats[col]), np.max(night_sleep_stats[col])))\n",
    "    \n",
    "\n",
    "    stat, p = ttest_ind(day_sleep_stats[col].dropna(), night_sleep_stats[col].dropna())\n",
    "    print('Statistics = %.3f, p = %.3f\\n' % (stat, p))\n",
    "    "
   ]
  },
  {
   "cell_type": "code",
   "execution_count": null,
   "metadata": {
    "collapsed": true
   },
   "outputs": [],
   "source": []
  }
 ],
 "metadata": {
  "kernelspec": {
   "display_name": "Python 3",
   "language": "python",
   "name": "python3"
  },
  "language_info": {
   "codemirror_mode": {
    "name": "ipython",
    "version": 3
   },
   "file_extension": ".py",
   "mimetype": "text/x-python",
   "name": "python",
   "nbconvert_exporter": "python",
   "pygments_lexer": "ipython3",
   "version": "3.6.3"
  }
 },
 "nbformat": 4,
 "nbformat_minor": 2
}
