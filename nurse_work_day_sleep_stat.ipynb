{
 "cells": [
  {
   "cell_type": "code",
   "execution_count": 332,
   "metadata": {},
   "outputs": [],
   "source": [
    "import csv\n",
    "import os\n",
    "import pandas as pd\n",
    "import numpy as np\n",
    "import matplotlib.pyplot as plt\n",
    "import datetime\n",
    "import sys\n",
    "\n",
    "sys.path.append(os.path.join('util'))\n",
    "from load_data_basic import getParticipantIDJobShift, getParticipantID\n",
    "from load_data_basic import getParticipantStartTime, getParticipantEndTime\n",
    "\n",
    "main_data_directory = '../data/keck_wave1/2_preprocessed_data'\n",
    "individual_timeline_directory = 'output/individual_timeline'\n",
    "\n",
    "IDs = getParticipantID(main_data_directory)\n",
    "\n",
    "sleep_after_work = pd.DataFrame()\n",
    "sleep_before_work = pd.DataFrame()\n",
    "\n",
    "for user_id in IDs.index:\n",
    "    participant_id = IDs.loc[user_id].values[0]\n",
    "    participant_timeline = pd.read_csv(os.path.join(individual_timeline_directory, participant_id + '.csv'), index_col=1)\n",
    "    \n",
    "    for index, row in participant_timeline.iterrows():\n",
    "        if row['type'] == 'sleep':\n",
    "            if row['is_sleep_before_work'] == 1:\n",
    "                sleep_before_work = sleep_before_work.append(row)\n",
    "                \n",
    "            if row['is_sleep_after_work'] == 1:\n",
    "                sleep_after_work = sleep_after_work.append(row)\n",
    "\n",
    "\n"
   ]
  },
  {
   "cell_type": "markdown",
   "metadata": {},
   "source": [
    "## Plot sleep duration"
   ]
  },
  {
   "cell_type": "code",
   "execution_count": 333,
   "metadata": {},
   "outputs": [
    {
     "data": {
      "image/png": "[encoded data removed]",
      "text/plain": [
       "<matplotlib.figure.Figure at 0x10a3ca0f0>"
      ]
     },
     "metadata": {},
     "output_type": "display_data"
    }
   ],
   "source": [
    "data = []\n",
    "\n",
    "# Day shift\n",
    "day_shift_sleep_before_work = sleep_before_work.loc[sleep_before_work['shift_type'] == 1]\n",
    "day_shift_sleep_duration_before_work = np.array(day_shift_sleep_before_work['duration_in_seconds']) / 3600\n",
    "data.append(day_shift_sleep_duration_before_work)\n",
    "\n",
    "day_shift_sleep_after_work = sleep_after_work.loc[sleep_after_work['shift_type'] == 1]\n",
    "day_shift_sleep_duration_after_work = np.array(day_shift_sleep_after_work['duration_in_seconds']) / 3600\n",
    "data.append(day_shift_sleep_duration_after_work)\n",
    "\n",
    "# Night shift\n",
    "night_shift_sleep_before_work = sleep_before_work.loc[sleep_before_work['shift_type'] == 0]\n",
    "night_shift_sleep_duration_before_work = np.array(night_shift_sleep_before_work['duration_in_seconds']) / 3600\n",
    "data.append(night_shift_sleep_duration_before_work)\n",
    "\n",
    "night_shift_sleep_after_work = sleep_after_work.loc[sleep_after_work['shift_type'] == 0]\n",
    "night_shift_sleep_duration_after_work = np.array(night_shift_sleep_after_work['duration_in_seconds']) / 3600\n",
    "data.append(night_shift_sleep_duration_after_work)\n",
    "\n",
    "# color\n",
    "color = ['r', 'g', 'b', 'y']\n",
    "\n",
    "# Title\n",
    "title = ['Day Shift time between wakeup and work', 'Day Shift time between work and sleep',\n",
    "         'Night Shift time between wakeup and work', 'Night Shift time between work and sleep']\n",
    "\n",
    "fig, axes = plt.subplots(nrows=2, ncols=2, figsize=(10, 8))\n",
    "ax0, ax1, ax2, ax3 = axes.flatten()\n",
    "\n",
    "for i in range(len(axes.flatten())):\n",
    "    axes[int(i / 2), int(i % 2)].set_xlim([0, 10])\n",
    "    axes[int(i / 2), int(i % 2)].set_ylim([0, 0.5])\n",
    "    axes[int(i / 2), int(i % 2)].set_xlabel('hour', fontsize=10)\n",
    "    \n",
    "    axes[int(i / 2), int(i % 2)].hist(list(data[i]), normed=True, bins=num_of_bins, color=color[i])\n",
    "    axes[int(i / 2), int(i % 2)].set_title(title[i])\n",
    "\n",
    "fig.tight_layout()\n",
    "plt.show()"
   ]
  },
  {
   "cell_type": "code",
   "execution_count": null,
   "metadata": {},
   "outputs": [],
   "source": []
  },
  {
   "cell_type": "code",
   "execution_count": 321,
   "metadata": {},
   "outputs": [],
   "source": [
    "\n",
    "# print(sleep_stats_array)"
   ]
  },
  {
   "cell_type": "markdown",
   "metadata": {},
   "source": [
    "## Extract day shift and night shift data"
   ]
  },
  {
   "cell_type": "code",
   "execution_count": null,
   "metadata": {},
   "outputs": [],
   "source": []
  },
  {
   "cell_type": "markdown",
   "metadata": {},
   "source": [
    "## Before and after work sleep start and end time in the day"
   ]
  },
  {
   "cell_type": "code",
   "execution_count": null,
   "metadata": {},
   "outputs": [],
   "source": []
  },
  {
   "cell_type": "markdown",
   "metadata": {},
   "source": [
    "## Before and after work sleep duration"
   ]
  },
  {
   "cell_type": "code",
   "execution_count": null,
   "metadata": {},
   "outputs": [],
   "source": []
  },
  {
   "cell_type": "code",
   "execution_count": null,
   "metadata": {
    "collapsed": true
   },
   "outputs": [],
   "source": []
  },
  {
   "cell_type": "markdown",
   "metadata": {},
   "source": [
    "## Before and after work sleep efficiency"
   ]
  },
  {
   "cell_type": "code",
   "execution_count": null,
   "metadata": {},
   "outputs": [],
   "source": []
  },
  {
   "cell_type": "markdown",
   "metadata": {},
   "source": [
    "## Before and after work sleep deep"
   ]
  },
  {
   "cell_type": "code",
   "execution_count": null,
   "metadata": {},
   "outputs": [],
   "source": []
  },
  {
   "cell_type": "markdown",
   "metadata": {},
   "source": [
    "## Before and after work sleep light"
   ]
  },
  {
   "cell_type": "code",
   "execution_count": null,
   "metadata": {},
   "outputs": [],
   "source": []
  },
  {
   "cell_type": "markdown",
   "metadata": {},
   "source": [
    "## Before and after work sleep rem"
   ]
  },
  {
   "cell_type": "code",
   "execution_count": null,
   "metadata": {},
   "outputs": [],
   "source": []
  },
  {
   "cell_type": "code",
   "execution_count": null,
   "metadata": {
    "collapsed": true
   },
   "outputs": [],
   "source": []
  }
 ],
 "metadata": {
  "kernelspec": {
   "display_name": "Python 3",
   "language": "python",
   "name": "python3"
  }
 },
 "nbformat": 4,
 "nbformat_minor": 1
}
